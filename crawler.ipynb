{
  "cells": [
    {
      "cell_type": "code",
      "execution_count": null,
      "metadata": {
        "id": "fnyOdgzDh1Pp"
      },
      "outputs": [],
      "source": [
        "import os\n",
        "import time\n",
        "import pandas as pd\n",
        "import urllib.request\n",
        "from selenium import webdriver\n",
        "from selenium.webdriver.common.keys import Keys\n",
        "from selenium.webdriver.common.by import By"
      ]
    },
    {
      "cell_type": "code",
      "execution_count": null,
      "metadata": {
        "id": "PChQuBbSh1Pz",
        "outputId": "eab79d52-aa59-46b0-e1b7-d47537b4b22c"
      },
      "outputs": [
        {
          "name": "stdout",
          "output_type": "stream",
          "text": [
            "Collecting webdriver_manager\n",
            "  Downloading webdriver_manager-4.0.0-py2.py3-none-any.whl (27 kB)\n",
            "Requirement already satisfied: packaging in c:\\users\\82109\\anaconda3\\anaconda33\\lib\\site-packages (from webdriver_manager) (23.1)\n",
            "Collecting python-dotenv\n",
            "  Downloading python_dotenv-1.0.0-py3-none-any.whl (19 kB)\n",
            "Requirement already satisfied: requests in c:\\users\\82109\\anaconda3\\anaconda33\\lib\\site-packages (from webdriver_manager) (2.24.0)\n",
            "Requirement already satisfied: chardet<4,>=3.0.2 in c:\\users\\82109\\anaconda3\\anaconda33\\lib\\site-packages (from requests->webdriver_manager) (3.0.4)\n",
            "Requirement already satisfied: certifi>=2017.4.17 in c:\\users\\82109\\anaconda3\\anaconda33\\lib\\site-packages (from requests->webdriver_manager) (2023.7.22)\n",
            "Requirement already satisfied: urllib3!=1.25.0,!=1.25.1,<1.26,>=1.21.1 in c:\\users\\82109\\anaconda3\\anaconda33\\lib\\site-packages (from requests->webdriver_manager) (1.25.11)\n",
            "Requirement already satisfied: idna<3,>=2.5 in c:\\users\\82109\\anaconda3\\anaconda33\\lib\\site-packages (from requests->webdriver_manager) (2.10)\n",
            "Installing collected packages: python-dotenv, webdriver-manager\n",
            "Successfully installed python-dotenv-1.0.0 webdriver-manager-4.0.0\n"
          ]
        }
      ],
      "source": [
        "!pip install webdriver_manager"
      ]
    },
    {
      "cell_type": "code",
      "execution_count": null,
      "metadata": {
        "id": "f5KG2AUgh1P7"
      },
      "outputs": [],
      "source": [
        "from selenium.webdriver.support.ui import WebDriverWait\n",
        "from selenium.webdriver.support import expected_conditions as EC\n",
        "from selenium.webdriver.common.keys import Keys\n",
        "from selenium.common.exceptions import NoSuchElementException"
      ]
    },
    {
      "cell_type": "code",
      "execution_count": null,
      "metadata": {
        "id": "AqaHvsIzh1P2"
      },
      "outputs": [],
      "source": [
        "from selenium import webdriver\n",
        "from webdriver_manager.chrome import ChromeDriverManager\n",
        "\n",
        "driver = webdriver.Chrome()"
      ]
    },
    {
      "cell_type": "markdown",
      "source": [
        "# 순위, 별점 크롤링"
      ],
      "metadata": {
        "id": "CEVa2yhliCEl"
      }
    },
    {
      "cell_type": "code",
      "execution_count": null,
      "metadata": {
        "id": "woms2erih1P-",
        "outputId": "0a391bd0-6f90-47bd-9fe7-d2ab4af33cf7"
      },
      "outputs": [
        {
          "data": {
            "text/plain": [
              "'C:\\\\Users\\\\82109\\\\Documents\\\\인터파크'"
            ]
          },
          "execution_count": 53,
          "metadata": {},
          "output_type": "execute_result"
        }
      ],
      "source": [
        "import os\n",
        "os.getcwd()"
      ]
    },
    {
      "cell_type": "code",
      "execution_count": null,
      "metadata": {
        "id": "SB26DbbTh1P_"
      },
      "outputs": [],
      "source": [
        "os.chdir('C:/Users/82109')"
      ]
    },
    {
      "cell_type": "code",
      "execution_count": null,
      "metadata": {
        "id": "lFXH4Y9hh1QA",
        "outputId": "4753ab67-cbe8-4dce-fead-534cb6c440f9"
      },
      "outputs": [
        {
          "data": {
            "text/plain": [
              "'C:\\\\Users\\\\82109'"
            ]
          },
          "execution_count": 55,
          "metadata": {},
          "output_type": "execute_result"
        }
      ],
      "source": [
        "os.getcwd()"
      ]
    },
    {
      "cell_type": "code",
      "execution_count": null,
      "metadata": {
        "scrolled": true,
        "id": "rTp6lKs5h1QB"
      },
      "outputs": [],
      "source": [
        "def initialize_driver():\n",
        "    driver = webdriver.Chrome()\n",
        "    return driver\n",
        "\n",
        "def get_theater_links(driver, query):\n",
        "    driver.get(query)\n",
        "    time.sleep(1)\n",
        "    number = 10\n",
        "\n",
        "    addresslist = []\n",
        "\n",
        "    for i in range(1, int(number) + 1):\n",
        "        xpath = f\"/html/body/table/tbody/tr[2]/td[3]/div/div/div[2]/div/table/tbody/tr[{i}]/td[1]/a\"\n",
        "        elem = driver.find_element(By.XPATH, xpath).get_attribute(\"href\")\n",
        "        addresslist.append(elem)\n",
        "\n",
        "    return addresslist\n",
        "\n",
        "def scrape_reviews(driver, addresslist):\n",
        "    scraped_data = []\n",
        "\n",
        "    for lis in addresslist:\n",
        "        driver.get(lis)\n",
        "        time.sleep(1)\n",
        "\n",
        "        try:\n",
        "            # Scrape theater details\n",
        "            title = driver.find_element(By.XPATH, \"/html/body/div[1]/div[5]/div[1]/div[2]/div[1]/div/div[1]/h2\").text\n",
        "            elem = driver.find_element(By.XPATH, \"/html/body/div[1]/div[5]/div[1]/div[2]/div[2]/nav/div/div/ul/li[4]/a\")\n",
        "\n",
        "            dataTarget = elem.get_attribute(\"data-target\")\n",
        "            if dataTarget != \"REVIEW\":\n",
        "                elem = driver.find_element(By.XPATH, \"/html/body/div[1]/div[5]/div[1]/div[2]/div[2]/nav/div/div/ul/li[3]/a\")\n",
        "\n",
        "            # Wait for the element to be clickable\n",
        "            WebDriverWait(driver, 10).until(EC.element_to_be_clickable((By.XPATH, \"/html/body/div[1]/div[5]/div[1]/div[2]/div[2]/nav/div/div/ul/li[4]/a\")))\n",
        "\n",
        "            elem.send_keys(Keys.ENTER)\n",
        "            time.sleep(1)\n",
        "\n",
        "            ids = []\n",
        "            stars = []\n",
        "\n",
        "            try:\n",
        "                best = driver.find_element(By.CLASS_NAME, \"bastBadge\").text\n",
        "            except:\n",
        "                best = \"\"\n",
        "\n",
        "            if best != \"베스트\":\n",
        "                while True:\n",
        "                    try:\n",
        "                        for j in range(1, 11):\n",
        "                            for i in range(1, 16):\n",
        "                                a = \"/html/body/div[1]/div[5]/div[1]/div[2]/div[2]/div/div/div[3]/ul/li[\" + str(i) + \"]/div/div[1]/div[2]/ul/li[1]/span[1]\"\n",
        "                                b = \"/html/body/div[1]/div[5]/div[1]/div[2]/div[2]/div/div/div[3]/ul/li[\" + str(i) + \"]/div/div[1]/div[1]/div/div[1]/div\"\n",
        "                                id = driver.find_element(By.XPATH, a).text\n",
        "                                star = driver.find_element(By.XPATH, b).get_attribute(\"data-star\")\n",
        "                                ids.append(id)\n",
        "                                stars.append(star)\n",
        "\n",
        "                            # 다음페이지 클릭\n",
        "                            if j < 10:\n",
        "                                botton = \"/html/body/div[1]/div[5]/div[1]/div[2]/div[2]/div/div/div[3]/div[2]/ol/li[\" + str(j + 1) + \"]/a\"\n",
        "                                elem = driver.find_element(By.XPATH, botton)\n",
        "                                elem.send_keys(Keys.ENTER)\n",
        "                                time.sleep(1)\n",
        "                            else:\n",
        "                                # 10번 다음페이지\n",
        "                                elem = driver.find_element(By.CLASS_NAME, \"pageNextBtn.pageArrow\")\n",
        "                                elem.send_keys(Keys.ENTER)\n",
        "                                time.sleep(1)\n",
        "                    except:\n",
        "                        break\n",
        "\n",
        "            # 베스트리뷰가 있으면 실행\n",
        "            else:\n",
        "                while True:\n",
        "                    try:\n",
        "                        for j in range(1, 11):\n",
        "                            for i in range(1, 16):\n",
        "                                a = \"/html/body/div[1]/div[5]/div[1]/div[2]/div[2]/div/div/div[4]/ul/li[\" + str(i) + \"]/div/div[1]/div[2]/ul/li[1]/span[1]\"\n",
        "                                b = \"/html/body/div[1]/div[5]/div[1]/div[2]/div[2]/div/div/div[4]/ul/li[\" + str(i) + \"]/div/div[1]/div[1]/div/div[1]/div\"\n",
        "                                id = driver.find_element(By.XPATH, a).text\n",
        "                                star = driver.find_element(By.XPATH, b).get_attribute(\"data-star\")\n",
        "                                ids.append(id)\n",
        "                                stars.append(star)\n",
        "\n",
        "                            # 다음페이지 클릭\n",
        "                            if j < 10:\n",
        "                                botton = \"/html/body/div[1]/div[5]/div[1]/div[2]/div[2]/div/div/div[4]/div[2]/ol/li[\" + str(j + 1) + \"]/a\"\n",
        "                                elem = driver.find_element(By.XPATH, botton)\n",
        "                                elem.send_keys(Keys.ENTER)\n",
        "                                time.sleep(1)\n",
        "                            else:\n",
        "                                # 10번 다음페이지\n",
        "                                elem = driver.find_element_by_class_name(\"pageNextBtn.pageArrow\")\n",
        "                                elem.send_keys(Keys.ENTER)\n",
        "                                time.sleep(1)\n",
        "                    except:\n",
        "                        break\n",
        "\n",
        "            # Append scraped data for this theater\n",
        "            scraped_data.append({'Title': title, 'IDs': ids, 'Stars': stars})\n",
        "\n",
        "        except Exception as e:\n",
        "            print(f\"Error while processing {title}: {str(e)}\")\n",
        "\n",
        "    return scraped_data\n",
        "\n",
        "def save_to_csv(data_list, save_path):\n",
        "    if data_list:\n",
        "        combined_data = pd.DataFrame(data_list)\n",
        "        combined_data.to_csv(save_path, index=False, encoding='cp949')\n",
        "\n",
        "current_directory = os.getcwd()\n",
        "save_path = os.path.join(current_directory, \"연극.csv\")\n",
        "\n",
        "driver = initialize_driver()\n",
        "query = \"http://ticket.interpark.com/TPGoodsList.asp?Ca=Dra\"\n",
        "addresslist = get_theater_links(driver, query)\n",
        "scraped_data = scrape_reviews(driver, addresslist)\n",
        "save_to_csv(scraped_data, save_path)\n",
        "driver.quit()"
      ]
    },
    {
      "cell_type": "markdown",
      "source": [
        "# 리뷰 크롤링"
      ],
      "metadata": {
        "id": "guH82SFFiGGx"
      }
    },
    {
      "cell_type": "code",
      "execution_count": null,
      "metadata": {
        "id": "eQMWaRmnh1QH",
        "outputId": "f08aaa83-2b51-4b82-a94d-aff06e871c45"
      },
      "outputs": [
        {
          "name": "stdout",
          "output_type": "stream",
          "text": [
            "공연정보\n",
            "캐스팅정보\n",
            "판매정보\n",
            "관람후기999+\n",
            "기대평215\n",
            "Q&A182\n"
          ]
        }
      ],
      "source": [
        "driver = webdriver.Chrome()\n",
        "driver.get(\"https://tickets.interpark.com/goods/18011275\")\n",
        "driver.implicitly_wait(5)\n",
        "time.sleep(2)\n",
        "nav = driver.find_elements(By.CLASS_NAME, \"navItem\")\n",
        "for i in nav:\n",
        "     print(i.text)"
      ]
    },
    {
      "cell_type": "code",
      "execution_count": null,
      "metadata": {
        "id": "LQf18fBRh1QI",
        "outputId": "a372c98e-3a73-41a2-9fb1-75cb36b187d0"
      },
      "outputs": [
        {
          "name": "stdout",
          "output_type": "stream",
          "text": [
            "[['\"그런 소리가 났다\"', '페이지 펄럭 넘어가는 소리\\n\\n비밀기지가 \"드디어\" 펼쳐낸 새로운\\n\\n코ㅏO'], ['연어, 인생의 바다 속을 가로지르다', '삶이란 바다와 같다. 드러나는 파도도 거세지만 깊은 물 속, 보이지 않는 해류도 그못지 않다. 인생도 마찬가지다. 겉으로 드러나 보이는 삶의 문제 못지 않게 내면 안에 해결되어야 할 어려움들 또한 많다.\\n\\n내면과 외면 중 삶의 문제가 어느 게 더 큰지 따지는 것은 불필요한 논쟁이다. 하지만, 연어가 견뎌낸 위로부터 내려오는 해류의 압박감은 그 어느 것에 뒤지지 않음을 자신한다. 작가가 작품을 통해 말하고자 했던 것은 이 내면 안의 해류를 매일 거슬러 올라가는 우리 모습이지 않았을까.\\n\\n분투하는 삶 속의 의미를 찾는다는게 누군가에게는 허공에 떠도는 꽹과리 같을 수 있겠다. 하지만, 그 의미를 너무 먼 곳이 아닌 우리 가까이에서 찾아 보는 것은 어떨까. 작품 연어는 해류를 거슬러 올라갈 수 있는 힘이 그리 멀리 있지 않음을 암시한다. 마주한 삶의 문제 속에서 내면의 해류를 이겨내고자 하는 모든 이들에게 이 작품을 추천한다.'], ['나와 대화할 수 있던 시간', '‘청소년’ 키워드라고 해서 가볍게 보려다가\\n내면 속 어린 나와 불안정했던 나를 만날 수 있습니다.\\n인물 한명한명 저를 투영해볼 수 있었습니다.\\n\\n연어랑 용서의신은 잔잔하지만 많은 고민을 하게 해주었고, 쾅은 말그대로 생각지 못하게 어린 나를 발견하고 공감받게 되어 가장 인상깊었습니다. (저만 중간에 눈물 흘린 줄 알았는데 다른 분 후기도 ㅎㅎ)\\n\\n음향 조명 화면에 배우들의 연기에 시간 가는 줄 모르고 봤습니다.\\n특히 쾅은 한번더 보고싶네요 !'], ['연어 & 용서의 신', '아직은 성장 중이고, 미숙한 시기를 지나고 있는\\n청소년들을 참신한 시선으로\\n바라볼 수 있었던 연극이었습니다.\\n\\n연출 방식, 배우들의 열연,\\n그리고 대사 한마디 한마디가\\n극의 분위기와 인물을 잘 전달해주어\\n관객 입장에서 몰입하기 좋았습니다.\\n\\n연어와 용서의 신 모두 생각할 거리가 많고\\n잔상이 깊이 남아요. 강추합니다 !'], ['연어', '한 마디 한 마다 보이지 않는 것듵이 가득한,\\n그래서 함부로 뱉을 수 없는듯이..\\n다른 것보다 작가의 색깔이 뚜렷해서 인상이 깊었어요\\n마치 긴 시 한 편이 움직이는 것 같았습니다\\n추천합니다'], ['연출가님 역시!!!', '무대 빛깔 영상 사운드 배우들의 연기 연출 모두 좋았던.\\n\\n청소년극에 대한 기존 관념을 깨뜨려준 작품들이다. 어른들의 시선으로 아이들의 세계를 다소 유치하게 그린다거나 우리들에게 동심을 강요하지는 않을까 조심스럽기도 했지만 다행히 아니었다.\\n‘쾅’의 아이들이 보여준 세계는 40대인 내가 선뜻 다가서기 어렵기도 했지만 어떤 장면들은 중학생이던 그때로 소환해내기도 했다. 할아버지의 죽음을 바라보는 아이의 마음. ’죽음이란 이런 건가‘했던 내가 떠올라 눈물이 조금 났다. 쾅은 너무도 귀엽고 신나고 아름답고 아련했던 작품이다. 다시 보고 싶다. 그리고 눈앞에 펼쳐지는 두 아이의 외로움이 그대로 밀려와 가슴 아팠던 ‘연어’. 많은 질문을 던져준 ‘용서의 신’ 까지 다 챙겨보길 잘했다.'], ['좋아요', '좋아요'], ['신선하고 재밌어요!', '시간 가는 줄 모르고 즐겁게 보았던 연극이예요 ??\\n배우들 연기도 잘하시더라구요.\\n앞으로 쭈욱 보았으면 하는데 기간이 짧게 끝나 아쉬운 마음이 드네요.\\n재밌었어요!'], ['신선한 극', '연출 방식이 신선해서 좋았습니다. 캐릭터가 모호한 경계에 있는 것도 좋았어요.']]\n"
          ]
        }
      ],
      "source": [
        "driver = webdriver.Chrome()\n",
        "driver.get(\"https://tickets.interpark.com/goods/23011234\")\n",
        "driver.implicitly_wait(5)\n",
        "time.sleep(2)\n",
        "# 팝업창 닫기\n",
        "driver.find_element(By.CLASS_NAME, \"popupCloseBtn.is-bottomBtn\").click()\n",
        "nav = driver.find_elements(By.CLASS_NAME, \"navItem\")\n",
        "\n",
        "for i in nav:\n",
        "    if \"관람후기\" in i.text:\n",
        "        i.click()\n",
        "        time.sleep(1)\n",
        "\n",
        "total = []\n",
        "\n",
        "for i in driver.find_elements(By.CLASS_NAME, \"bbsItem\"):\n",
        "    title = i.find_element(By.CLASS_NAME, \"bbsTitle\").text\n",
        "    content = i.find_element(By.CLASS_NAME, \"bbsText\").text\n",
        "    total.append([title, content])\n",
        "\n",
        "print(total)"
      ]
    },
    {
      "cell_type": "code",
      "execution_count": null,
      "metadata": {
        "id": "1Zxjsxy8h1QI",
        "outputId": "1ed1e8ef-d4a4-46a4-b62e-62d5b440bfbc"
      },
      "outputs": [
        {
          "name": "stdout",
          "output_type": "stream",
          "text": [
            "[['카르멘', '카르멘과 돈 호세 두 인물의 충돌이 잘 담겨있는 작품입니다! 저는 한번 더 보고 싶은 작품이네요'], ['미카엘라의 사랑', '미카엘라는 끝까지 바보같은 사람이었다.\\n돈 호세는 싸이코패스 같은 사람이었고,\\n카르멘은 자신의 방탕한 생활을 자유로움이라 포장하는 사람이었다.\\n\\n이 셋중에 하나로 살아가야 한다면, 미카엘라 같은 사랑을 하며 살아가고 싶다. 그나마 이들 중에서 가장 진정한 사랑을 하는 사람인 것 같아서..\\n\\n또 보고싶다, 미카엘라의 사랑. 미카엘라의 포효.'], ['카르멘에 홀딱 반함!', '연기를 다 너무 잘하셔서 놀랐네요\\n역시 연극 배우분들은 발성부터가 다른 것 같아요.\\n특히 주인공 두분 마지막 장면까지 진짜 열연!!\\n마지막에 (스포 금지라서) 보면서 좀 울엇네요.\\n서지우 배우는 마스크가 진짜 매력적이시라 반햇어요!\\n여튼 스페인 세비야에서 플라멩고 봤던 추억이 떠올라서 좋았습니다.\\n이런 공연은 두번 세번 봐도 안아까워요!!'], ['21세기의 카르멘', '(스포o)\\n\\n팜므파탈의 대명사와 같은 카르멘을, 지금 이 시대에 공연한다는 점에서 궁금해서 못 참고 보러 갔음.\\n요약하자면 우리가 아는 그 카르멘이라고 할 수는 없음. 그러나 ‘팜므파탈의 대명사’니 ‘매력적인 여성’이니 하는 수식어를 기대하고 간 것 가체가 나 스스로 또한 프레임 풀장착 하고 갔던 것은 아닌지 반성함. ‘발에 맞지 않는 구두는 싫어’라고 우는 여자에게 나역시 ‘카르멘이 좀 다르네?‘하고 코르셋 꽉 조이고 있었던 거임. 그런 점에서 꿏나고 곱씹을수록 발견할만한 의미가 많았던 듯함.\\n비슷한 맥락에서 돈 호세도 여자에게 버려진 순애보의 비극적인 사랑... 절대 아니고 스토킹 범죄자ㅇㅇ... 요즘 흉흉한 사회상을 적극 반영한 작품이 아닌가?\\n\\n맥락도 맥락인데 배우들 춤추는 거랑 무대랑 음향 다 꿀잼이니 꼭 보시길 추천'], ['매력없음', '음악만 들어도 그 매력이 물씬 묻어났던 카르멘인데 매력적이지 않았음. 돈호세역시 그녀에게 반해 사랑을 택하는 모습을 보여줘야하는데, 이해가 안감\\n\\n그래서 아쉬웠음.'], ['연극 카르멘', '애초에 오페라로 너무 유명한 극이라 춤과 노래 없이 서운해서 어찌 볼까 싶었는데\\n비극적 결말이라는 점은 같지만 극적 효과를 높이기 위한 각색이 첨가되었고,\\n밀수자로, 도망자 생활을 이어가던 부분에 창작된 씬을 첨부해 상황을 길고 디테일하게 묘사하고 있다.\\n오페라를 대신하는 유명 넘버들은 기타반주에 코러스들이 군무와 허밍으로 채우고 있고\\n집시들의 정열적인 플랑밍고 씬도 있으며 엔딩장면이 인상적이다.\\n\\n사랑의 진짜 얼굴은 반쪽이라는데,\\n진정한 반쪽짜리 인생을 살지 못한 그들의 사랑이 못내 아쉽다.'], ['새로운 해석', '생각한 것 보다 더 재미있게 즐겼습니다.'], ['새장속의 새는 싫어', '우직하고 순박해 보였던 돈 호세는 정숙하고 착한 약혼자 미카엘라를 사랑한다고 했지만 매혹적인 여인 카르멘의 유혹에 넘어가 해서는 안될 일들을 저지르고, 자신의 사랑을 강요하고 집착하는 사람이 되었군요. 자유롭게 원하는 대로 살아가던 카르멘은 돈 호세에게 이끌렸지만, 너무나도 다른 가치관을 가진데다 자신을 옭아매는 것 때문에 그를 싫어하게 되네요. 새장속의 새는 싫은 카르멘. 돈 호세가 자신을 죽일 것만 같아도 자유롭게 하고 싶은대로 하는 것이 카르멘의 길이라고 합니다. 진정한 자유를 갈망하는 카르멘과 지독한 사랑으로 얽힌 비극으로 각색되어 더욱 흥미롭고 재밌었던 공연이었습니다. 기타로 연주되는 비제의 음악과 스페인의 느낌을 한껏 느낄 수 있는 춤과 투우가 정말 멋있었고, 갑자기 마당놀이 느낌으로 변주되는것도 재밌었어요.'], ['사시교정효과', '그동안 남성중심 사고에서 빚어진 카르멘의 팜므파탈 보다는 새로운 시각으로 돈 호세의 집착과 스토커로서의 찌질함이 눈에 더 띄여 사시를 교정하는데 큰 효과를 준 연극이었습니다.'], ['기대한만큼멋진공연', '내용이 단조롭지않아 집중하면서 볼 수 있었어요! 연기하는 모습이 너뮤 멋있었습니다ㅠㅠ'], ['가슴띄는 무대', '무대 가까운곳에서 가슴띄는 세비야의 느낌을 엿볼 수 있었던 경험이었습니다!'], ['변해버린 마음과 붙잡아 두려는 마음', '기존에 알고있던 카르멘과는 조금 다른 인물로 재조명 하고 싶었다는 고선웅 연출은\\n카르멘을 보는 시선을 조금 틀어서 단순한 바람둥이가 아닌 자유를 갈망하며 살아가는 여자 카르멘\\n그리고 그녀를 소유하고자 안간힘을 쓰는 돈 호세의 집착을 통해\\n변해버린 마음과 붙잡아 두려는 마음을 요즘 시선에 맞춰 재해석했다\\n\\n카르멘의 팜므파탈보다는 죽여서라도 카르멘을 갖고싶은\\n돈 호세의 마음을 더 크게 표현한 공연이었다\\n\\n아주 단순한 무대이지만 그때그때 바뀌는 조명과\\n뒷배경으로 나오는 그림자들과 배우들 만으로도 꽉 찬 느낌이 든다\\n\\n여공들이 추는 플라멩코와\\n빨간 원피스를 입고 캐스터네츠를 치며 춤을 추는 카르멘은 완벽하다\\n\\n고전이 주는 무거움과 지루함 대신 중간중간 웃음포인트로 신선함을 더했다\\n배우들은 말 할 것도 없고 기타치는 마구엘까지 너무 멋진 공연이었다'], ['카르멘식 사랑, 돈 호세식 사랑', '카르멘의 사랑은 더할 나위 없이 가볍고 자유로우며, 충동적이고 정열적이었다.\\n하지만 돈 호세의 사랑은 깊고 구속적이며, 정적이고 파멸적이었다.\\n두 사람이 사랑하는 방식, 사랑하는 깊이가 전혀 달랐기에 비극이 시작됐다.\\n사랑이란 건 그런 것 같다.\\n누가 먼저 시작했든, 그 끝은 전부 다 달라서 갈등이 생기고 만다.\\n사랑하는 사이에서는 어떻게든 서로 맞춰 가려 애쓰고, 서로를 존중하기 마련이다.\\n하지만 카르멘과 돈 호세의 사이엔 그런 것이 없었다.\\n남의 여자에게서 남자를 빼앗은 카르멘, 약혼자에게 이별을 고하지도 않고 다른 여자를 사랑해 놓고, 사과 한마디 없이, 끝내 이별을 고하지도 않고 약혼자를 내다버린 돈 호세.\\n정열적이고 충동적인 사랑의 결말이란 참 허무했다.\\n나도 독점적인 사랑을 하는 편이라, 이 공연을 보는 내내 나 자신을 돌아보게 됐다.\\n나는 상대를 얼마나 존중하고, 얼마나 독립적인가.'], ['^^', '재미있어요'], ['사랑과 집착 사이', '사랑과 집착 사이. 그 어디쯤에서 점차 광기로 변해가는 돈 호세를 보며.그리고 순간의 감정에만 집중하는 카르멘을 보면서 인간의 감정이란게 얼마나 믿지 못할 것인지..시낭송같은 대사를 열심히 소화하는 배우들과 기타선율이 연출자의 의도와 잘 맞아서 좋았습니다.투우사의 퍼포먼스도 새로웠네요']]\n"
          ]
        }
      ],
      "source": [
        "driver = webdriver.Chrome()\n",
        "driver.get(\"https://tickets.interpark.com/goods/P0003343\")\n",
        "driver.implicitly_wait(5)\n",
        "time.sleep(2)\n",
        "# 팝업창 닫기\n",
        "try:\n",
        "    close_button = driver.find_element(By.CLASS_NAME, \"popupCloseBtn.is-bottomBtn\")\n",
        "    close_button.click()\n",
        "    time.sleep(0.5)\n",
        "except NoSuchElementException:\n",
        "    pass\n",
        "nav = driver.find_elements(By.CLASS_NAME, \"navItem\")\n",
        "\n",
        "for i in nav:\n",
        "    if \"관람후기\" in i.text:\n",
        "        i.click()\n",
        "        time.sleep(1)\n",
        "\n",
        "total = []\n",
        "\n",
        "for i in driver.find_elements(By.CLASS_NAME, \"bbsItem\"):\n",
        "    title = i.find_element(By.CLASS_NAME, \"bbsTitle\").text\n",
        "    content = i.find_element(By.CLASS_NAME, \"bbsText\").text\n",
        "    total.append([title, content])\n",
        "\n",
        "print(total)"
      ]
    },
    {
      "cell_type": "code",
      "execution_count": null,
      "metadata": {
        "id": "eTd5brNjh1QJ",
        "outputId": "db5a2f7a-12d9-46a9-8987-001b4db96d1f"
      },
      "outputs": [
        {
          "data": {
            "text/html": [
              "<div>\n",
              "<style scoped>\n",
              "    .dataframe tbody tr th:only-of-type {\n",
              "        vertical-align: middle;\n",
              "    }\n",
              "\n",
              "    .dataframe tbody tr th {\n",
              "        vertical-align: top;\n",
              "    }\n",
              "\n",
              "    .dataframe thead th {\n",
              "        text-align: right;\n",
              "    }\n",
              "</style>\n",
              "<table border=\"1\" class=\"dataframe\">\n",
              "  <thead>\n",
              "    <tr style=\"text-align: right;\">\n",
              "      <th></th>\n",
              "      <th>제목</th>\n",
              "      <th>리뷰</th>\n",
              "    </tr>\n",
              "  </thead>\n",
              "  <tbody>\n",
              "    <tr>\n",
              "      <th>0</th>\n",
              "      <td>카르멘</td>\n",
              "      <td>카르멘과 돈 호세 두 인물의 충돌이 잘 담겨있는 작품입니다! 저는 한번 더 보고 싶...</td>\n",
              "    </tr>\n",
              "    <tr>\n",
              "      <th>1</th>\n",
              "      <td>미카엘라의 사랑</td>\n",
              "      <td>미카엘라는 끝까지 바보같은 사람이었다.\\n돈 호세는 싸이코패스 같은 사람이었고,\\n...</td>\n",
              "    </tr>\n",
              "    <tr>\n",
              "      <th>2</th>\n",
              "      <td>카르멘에 홀딱 반함!</td>\n",
              "      <td>연기를 다 너무 잘하셔서 놀랐네요\\n역시 연극 배우분들은 발성부터가 다른 것 같아요...</td>\n",
              "    </tr>\n",
              "    <tr>\n",
              "      <th>3</th>\n",
              "      <td>21세기의 카르멘</td>\n",
              "      <td>(스포o)\\n\\n팜므파탈의 대명사와 같은 카르멘을, 지금 이 시대에 공연한다는 점에...</td>\n",
              "    </tr>\n",
              "    <tr>\n",
              "      <th>4</th>\n",
              "      <td>매력없음</td>\n",
              "      <td>음악만 들어도 그 매력이 물씬 묻어났던 카르멘인데 매력적이지 않았음. 돈호세역시 그...</td>\n",
              "    </tr>\n",
              "  </tbody>\n",
              "</table>\n",
              "</div>"
            ],
            "text/plain": [
              "            제목                                                 리뷰\n",
              "0          카르멘  카르멘과 돈 호세 두 인물의 충돌이 잘 담겨있는 작품입니다! 저는 한번 더 보고 싶...\n",
              "1     미카엘라의 사랑  미카엘라는 끝까지 바보같은 사람이었다.\\n돈 호세는 싸이코패스 같은 사람이었고,\\n...\n",
              "2  카르멘에 홀딱 반함!  연기를 다 너무 잘하셔서 놀랐네요\\n역시 연극 배우분들은 발성부터가 다른 것 같아요...\n",
              "3    21세기의 카르멘  (스포o)\\n\\n팜므파탈의 대명사와 같은 카르멘을, 지금 이 시대에 공연한다는 점에...\n",
              "4         매력없음  음악만 들어도 그 매력이 물씬 묻어났던 카르멘인데 매력적이지 않았음. 돈호세역시 그..."
            ]
          },
          "execution_count": 100,
          "metadata": {},
          "output_type": "execute_result"
        }
      ],
      "source": [
        "total = pd.DataFrame(total, columns=['제목', '리뷰'])\n",
        "total.head()"
      ]
    },
    {
      "cell_type": "code",
      "execution_count": null,
      "metadata": {
        "id": "NACevvK3h1QJ",
        "outputId": "c7f95148-fad5-4afc-b089-8347adac8c2c"
      },
      "outputs": [
        {
          "ename": "AttributeError",
          "evalue": "'list' object has no attribute 'find_elements'",
          "output_type": "error",
          "traceback": [
            "\u001b[1;31m---------------------------------------------------------------------------\u001b[0m",
            "\u001b[1;31mAttributeError\u001b[0m                            Traceback (most recent call last)",
            "\u001b[1;32m<ipython-input-107-e1df4601c06e>\u001b[0m in \u001b[0;36m<module>\u001b[1;34m\u001b[0m\n\u001b[0;32m     19\u001b[0m \u001b[1;33m\u001b[0m\u001b[0m\n\u001b[0;32m     20\u001b[0m \u001b[1;32mwhile\u001b[0m \u001b[1;32mTrue\u001b[0m\u001b[1;33m:\u001b[0m\u001b[1;33m\u001b[0m\u001b[1;33m\u001b[0m\u001b[0m\n\u001b[1;32m---> 21\u001b[1;33m     \u001b[0mpages\u001b[0m \u001b[1;33m=\u001b[0m \u001b[0mdriver\u001b[0m\u001b[1;33m.\u001b[0m\u001b[0mfind_elements\u001b[0m\u001b[1;33m(\u001b[0m\u001b[0mBy\u001b[0m\u001b[1;33m.\u001b[0m\u001b[0mCLASS_NAME\u001b[0m\u001b[1;33m,\u001b[0m \u001b[1;34m\"pageNumWrap\"\u001b[0m\u001b[1;33m)\u001b[0m\u001b[1;33m.\u001b[0m\u001b[0mfind_elements\u001b[0m\u001b[1;33m(\u001b[0m\u001b[0mBy\u001b[0m\u001b[1;33m.\u001b[0m\u001b[0mTAG_NAME\u001b[0m\u001b[1;33m,\u001b[0m \u001b[1;34m\"li\"\u001b[0m\u001b[1;33m)\u001b[0m\u001b[1;33m\u001b[0m\u001b[1;33m\u001b[0m\u001b[0m\n\u001b[0m\u001b[0;32m     22\u001b[0m     \u001b[1;32mfor\u001b[0m \u001b[0mi\u001b[0m \u001b[1;32min\u001b[0m \u001b[0mpages\u001b[0m\u001b[1;33m:\u001b[0m\u001b[1;33m\u001b[0m\u001b[1;33m\u001b[0m\u001b[0m\n\u001b[0;32m     23\u001b[0m         \u001b[0mi\u001b[0m\u001b[1;33m.\u001b[0m\u001b[0mclick\u001b[0m\u001b[1;33m(\u001b[0m\u001b[1;33m)\u001b[0m\u001b[1;33m\u001b[0m\u001b[1;33m\u001b[0m\u001b[0m\n",
            "\u001b[1;31mAttributeError\u001b[0m: 'list' object has no attribute 'find_elements'"
          ]
        }
      ],
      "source": [
        "driver = webdriver.Chrome()\n",
        "driver.get(\"https://tickets.interpark.com/goods/P0003343\")\n",
        "driver.implicitly_wait(5)\n",
        "time.sleep(2)\n",
        "## 팝업창이 뜨면 닫기\n",
        "try:\n",
        "    close_button = driver.find_element(By.CLASS_NAME, \"popupCloseBtn.is-bottomBtn\")\n",
        "    close_button.click()\n",
        "    time.sleep(1)\n",
        "except NoSuchElementException:\n",
        "    pass\n",
        "\n",
        "nav = driver.find_element(By.CLASS_NAME, \"navItem\")\n",
        "if \"관람후기\" in nav.text:\n",
        "    nav.click()\n",
        "    time.sleep(2)\n",
        "\n",
        "total = []\n",
        "\n",
        "while True:\n",
        "    pages = driver.find_element(By.CLASS_NAME, \"pageNumWrap\").find_elements(By.TAG_NAME, \"li\")\n",
        "    for i in pages:\n",
        "        i.click()\n",
        "        time.sleep(2)\n",
        "\n",
        "    for i in driver.find_elements(By.CLASS_NAME, \"bbsItem\"):\n",
        "        title = i.find_element(By.CLASS_NAME, \"bbsTitle\").text\n",
        "        content = i.find_element(By.CLASS_NAME, \"bbsText\").text\n",
        "        total.append([title, content])\n",
        "\n",
        "    print(f\"{len(total)}개의 리뷰를 저장했습니다.\")\n",
        "\n",
        "    try:\n",
        "        driver.find_element(By.CLASS_NAME, \"pageNextBtn.pageArrow\").click()\n",
        "    except:\n",
        "        break\n",
        "\n",
        "driver.quit()"
      ]
    }
  ],
  "metadata": {
    "kernelspec": {
      "display_name": "Python 3",
      "language": "python",
      "name": "python3"
    },
    "language_info": {
      "codemirror_mode": {
        "name": "ipython",
        "version": 3
      },
      "file_extension": ".py",
      "mimetype": "text/x-python",
      "name": "python",
      "nbconvert_exporter": "python",
      "pygments_lexer": "ipython3",
      "version": "3.8.5"
    },
    "colab": {
      "provenance": []
    }
  },
  "nbformat": 4,
  "nbformat_minor": 0
}