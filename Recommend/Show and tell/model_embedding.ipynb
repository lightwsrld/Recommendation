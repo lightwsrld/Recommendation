{
  "nbformat": 4,
  "nbformat_minor": 0,
  "metadata": {
    "colab": {
      "provenance": [],
      "toc_visible": true
    },
    "kernelspec": {
      "name": "python3",
      "display_name": "Python 3"
    },
    "language_info": {
      "name": "python"
    }
  },
  "cells": [
    {
      "cell_type": "code",
      "source": [
        "from google.colab import drive\n",
        "drive.mount('/content/drive', force_remount=True)"
      ],
      "metadata": {
        "colab": {
          "base_uri": "https://localhost:8080/"
        },
        "id": "1tzXIY2DiyF5",
        "outputId": "5838a5b3-90c1-464a-9283-c4437b14e31c"
      },
      "execution_count": null,
      "outputs": [
        {
          "output_type": "stream",
          "name": "stdout",
          "text": [
            "Mounted at /content/drive\n"
          ]
        }
      ]
    },
    {
      "cell_type": "code",
      "source": [
        "!pip install kor2vec"
      ],
      "metadata": {
        "id": "-rJowbWL8iWj"
      },
      "execution_count": null,
      "outputs": []
    },
    {
      "cell_type": "code",
      "source": [
        "import torch\n",
        "import torch.optim as optim\n",
        "from PIL import Image\n",
        "import os\n",
        "import re\n",
        "from tqdm import tqdm, tqdm_notebook\n",
        "from torch.utils.data import Dataset\n",
        "from torch.utils.data import Dataset, DataLoader\n",
        "\n",
        "import torchvision\n",
        "import torchvision.transforms as T\n",
        "from torchvision import transforms\n",
        "import torchvision.datasets as datasets\n",
        "import torchvision.models as models\n",
        "import torch.nn as nn\n",
        "import torch.optim as optim\n",
        "from mlxtend.preprocessing import TransactionEncoder\n",
        "from torch.utils.data import DataLoader\n",
        "from torch.utils.data import Dataset\n",
        "\n",
        "import tensorflow as tf\n",
        "from keras.models import Model\n",
        "from sklearn.metrics.pairwise import cosine_similarity\n",
        "from numpy.linalg import norm\n",
        "import pandas as pd\n",
        "import numpy as np\n",
        "import unicodedata\n",
        "import matplotlib.pyplot as plt\n",
        "from keras.preprocessing.image import load_img,img_to_array\n",
        "import ast\n",
        "import re\n",
        "from numpy.linalg import norm\n",
        "import math\n",
        "import time\n",
        "import cv2\n",
        "import pickle\n",
        "from kor2vec import Kor2Vec"
      ],
      "metadata": {
        "id": "IAq7boK4iyIU"
      },
      "execution_count": null,
      "outputs": []
    },
    {
      "cell_type": "markdown",
      "source": [
        "### Show and tell\n",
        "#### 장르를 one-hot encoding -> latent space -> 임베딩 벡터"
      ],
      "metadata": {
        "id": "ShMKqYigmXQS"
      }
    },
    {
      "cell_type": "code",
      "source": [
        "df = pd.read_excel('/content/drive/MyDrive/캡스톤/데이터/연극+뮤지컬 (+포스터).xlsx')\n",
        "df = df.drop(df.columns[0], axis=1)\n",
        "df.head(3)\n",
        "model_dir = \"/content/drive/MyDrive/캡스톤/데이터/\"\n",
        "img_dir = '/content/drive/MyDrive/캡스톤/데이터/포스터/'\n",
        "kor_vec_name= \"embedding_final_1\""
      ],
      "metadata": {
        "id": "XboDr5_jhW6M",
        "colab": {
          "base_uri": "https://localhost:8080/",
          "height": 247
        },
        "outputId": "37261520-8c30-49a7-94fc-22b25a3babec"
      },
      "execution_count": null,
      "outputs": [
        {
          "output_type": "execute_result",
          "data": {
            "text/plain": [
              "                    Title                                                줄거리  \\\n",
              "0         연극 〈운빨로맨스〉- 대학로  점에 살고 점에 죽는 점보늬의 호랑이띠 남자와 하룻밤 보내기 프로젝트 목숨이 걸린 ...   \n",
              "1  (리얼타임 코믹연극) 택시안에서 - 서울  쾌활하고 유쾌한 택시 운전사 민수 그리고 하영과 소희 두 남녀의 운명적인 만남!\\n...   \n",
              "2           (코믹연극) 달동네-부산  정음의 아버지 경민은 행정착오로 인해 월남전 참전 중 전사자 처리가 되고,........   \n",
              "\n",
              "               장르                                Image_path  \\\n",
              "0  로맨스, 코믹, 공감/힐링  /content/drive/MyDrive/캡스톤/데이터/연극/연극_포스터   \n",
              "1  코믹, 로맨스, 공감/힐링  /content/drive/MyDrive/캡스톤/데이터/연극/연극_포스터   \n",
              "2     코믹, 감동, 드라마  /content/drive/MyDrive/캡스톤/데이터/연극/연극_포스터   \n",
              "\n",
              "                                               Image  \\\n",
              "0                연극 〈운빨로맨스〉- 대학로.png   \n",
              "1  (리얼타임 코믹연극) 택시안에서 - 서울.png   \n",
              "2                   (코믹연극) 달동네-부산.gif   \n",
              "\n",
              "                                          image_name  \n",
              "0  /content/drive/MyDrive/캡스톤/데이터/연극/연극_포스터/연그...  \n",
              "1  /content/drive/MyDrive/캡스톤/데이터/연극/연극_포스터/(리어...  \n",
              "2  /content/drive/MyDrive/캡스톤/데이터/연극/연극_포스터/(코미...  "
            ],
            "text/html": [
              "\n",
              "  <div id=\"df-a30f04e1-d14f-44ea-8931-3b6258263885\" class=\"colab-df-container\">\n",
              "    <div>\n",
              "<style scoped>\n",
              "    .dataframe tbody tr th:only-of-type {\n",
              "        vertical-align: middle;\n",
              "    }\n",
              "\n",
              "    .dataframe tbody tr th {\n",
              "        vertical-align: top;\n",
              "    }\n",
              "\n",
              "    .dataframe thead th {\n",
              "        text-align: right;\n",
              "    }\n",
              "</style>\n",
              "<table border=\"1\" class=\"dataframe\">\n",
              "  <thead>\n",
              "    <tr style=\"text-align: right;\">\n",
              "      <th></th>\n",
              "      <th>Title</th>\n",
              "      <th>줄거리</th>\n",
              "      <th>장르</th>\n",
              "      <th>Image_path</th>\n",
              "      <th>Image</th>\n",
              "      <th>image_name</th>\n",
              "    </tr>\n",
              "  </thead>\n",
              "  <tbody>\n",
              "    <tr>\n",
              "      <th>0</th>\n",
              "      <td>연극 〈운빨로맨스〉- 대학로</td>\n",
              "      <td>점에 살고 점에 죽는 점보늬의 호랑이띠 남자와 하룻밤 보내기 프로젝트 목숨이 걸린 ...</td>\n",
              "      <td>로맨스, 코믹, 공감/힐링</td>\n",
              "      <td>/content/drive/MyDrive/캡스톤/데이터/연극/연극_포스터</td>\n",
              "      <td>연극 〈운빨로맨스〉- 대학로.png</td>\n",
              "      <td>/content/drive/MyDrive/캡스톤/데이터/연극/연극_포스터/연그...</td>\n",
              "    </tr>\n",
              "    <tr>\n",
              "      <th>1</th>\n",
              "      <td>(리얼타임 코믹연극) 택시안에서 - 서울</td>\n",
              "      <td>쾌활하고 유쾌한 택시 운전사 민수 그리고 하영과 소희 두 남녀의 운명적인 만남!\\n...</td>\n",
              "      <td>코믹, 로맨스, 공감/힐링</td>\n",
              "      <td>/content/drive/MyDrive/캡스톤/데이터/연극/연극_포스터</td>\n",
              "      <td>(리얼타임 코믹연극) 택시안에서 - 서울.png</td>\n",
              "      <td>/content/drive/MyDrive/캡스톤/데이터/연극/연극_포스터/(리어...</td>\n",
              "    </tr>\n",
              "    <tr>\n",
              "      <th>2</th>\n",
              "      <td>(코믹연극) 달동네-부산</td>\n",
              "      <td>정음의 아버지 경민은 행정착오로 인해 월남전 참전 중 전사자 처리가 되고,........</td>\n",
              "      <td>코믹, 감동, 드라마</td>\n",
              "      <td>/content/drive/MyDrive/캡스톤/데이터/연극/연극_포스터</td>\n",
              "      <td>(코믹연극) 달동네-부산.gif</td>\n",
              "      <td>/content/drive/MyDrive/캡스톤/데이터/연극/연극_포스터/(코미...</td>\n",
              "    </tr>\n",
              "  </tbody>\n",
              "</table>\n",
              "</div>\n",
              "    <div class=\"colab-df-buttons\">\n",
              "\n",
              "  <div class=\"colab-df-container\">\n",
              "    <button class=\"colab-df-convert\" onclick=\"convertToInteractive('df-a30f04e1-d14f-44ea-8931-3b6258263885')\"\n",
              "            title=\"Convert this dataframe to an interactive table.\"\n",
              "            style=\"display:none;\">\n",
              "\n",
              "  <svg xmlns=\"http://www.w3.org/2000/svg\" height=\"24px\" viewBox=\"0 -960 960 960\">\n",
              "    <path d=\"M120-120v-720h720v720H120Zm60-500h600v-160H180v160Zm220 220h160v-160H400v160Zm0 220h160v-160H400v160ZM180-400h160v-160H180v160Zm440 0h160v-160H620v160ZM180-180h160v-160H180v160Zm440 0h160v-160H620v160Z\"/>\n",
              "  </svg>\n",
              "    </button>\n",
              "\n",
              "  <style>\n",
              "    .colab-df-container {\n",
              "      display:flex;\n",
              "      gap: 12px;\n",
              "    }\n",
              "\n",
              "    .colab-df-convert {\n",
              "      background-color: #E8F0FE;\n",
              "      border: none;\n",
              "      border-radius: 50%;\n",
              "      cursor: pointer;\n",
              "      display: none;\n",
              "      fill: #1967D2;\n",
              "      height: 32px;\n",
              "      padding: 0 0 0 0;\n",
              "      width: 32px;\n",
              "    }\n",
              "\n",
              "    .colab-df-convert:hover {\n",
              "      background-color: #E2EBFA;\n",
              "      box-shadow: 0px 1px 2px rgba(60, 64, 67, 0.3), 0px 1px 3px 1px rgba(60, 64, 67, 0.15);\n",
              "      fill: #174EA6;\n",
              "    }\n",
              "\n",
              "    .colab-df-buttons div {\n",
              "      margin-bottom: 4px;\n",
              "    }\n",
              "\n",
              "    [theme=dark] .colab-df-convert {\n",
              "      background-color: #3B4455;\n",
              "      fill: #D2E3FC;\n",
              "    }\n",
              "\n",
              "    [theme=dark] .colab-df-convert:hover {\n",
              "      background-color: #434B5C;\n",
              "      box-shadow: 0px 1px 3px 1px rgba(0, 0, 0, 0.15);\n",
              "      filter: drop-shadow(0px 1px 2px rgba(0, 0, 0, 0.3));\n",
              "      fill: #FFFFFF;\n",
              "    }\n",
              "  </style>\n",
              "\n",
              "    <script>\n",
              "      const buttonEl =\n",
              "        document.querySelector('#df-a30f04e1-d14f-44ea-8931-3b6258263885 button.colab-df-convert');\n",
              "      buttonEl.style.display =\n",
              "        google.colab.kernel.accessAllowed ? 'block' : 'none';\n",
              "\n",
              "      async function convertToInteractive(key) {\n",
              "        const element = document.querySelector('#df-a30f04e1-d14f-44ea-8931-3b6258263885');\n",
              "        const dataTable =\n",
              "          await google.colab.kernel.invokeFunction('convertToInteractive',\n",
              "                                                    [key], {});\n",
              "        if (!dataTable) return;\n",
              "\n",
              "        const docLinkHtml = 'Like what you see? Visit the ' +\n",
              "          '<a target=\"_blank\" href=https://colab.research.google.com/notebooks/data_table.ipynb>data table notebook</a>'\n",
              "          + ' to learn more about interactive tables.';\n",
              "        element.innerHTML = '';\n",
              "        dataTable['output_type'] = 'display_data';\n",
              "        await google.colab.output.renderOutput(dataTable, element);\n",
              "        const docLink = document.createElement('div');\n",
              "        docLink.innerHTML = docLinkHtml;\n",
              "        element.appendChild(docLink);\n",
              "      }\n",
              "    </script>\n",
              "  </div>\n",
              "\n",
              "\n",
              "<div id=\"df-201be8b2-0b94-4637-8caa-28bf0128878b\">\n",
              "  <button class=\"colab-df-quickchart\" onclick=\"quickchart('df-201be8b2-0b94-4637-8caa-28bf0128878b')\"\n",
              "            title=\"Suggest charts\"\n",
              "            style=\"display:none;\">\n",
              "\n",
              "<svg xmlns=\"http://www.w3.org/2000/svg\" height=\"24px\"viewBox=\"0 0 24 24\"\n",
              "     width=\"24px\">\n",
              "    <g>\n",
              "        <path d=\"M19 3H5c-1.1 0-2 .9-2 2v14c0 1.1.9 2 2 2h14c1.1 0 2-.9 2-2V5c0-1.1-.9-2-2-2zM9 17H7v-7h2v7zm4 0h-2V7h2v10zm4 0h-2v-4h2v4z\"/>\n",
              "    </g>\n",
              "</svg>\n",
              "  </button>\n",
              "\n",
              "<style>\n",
              "  .colab-df-quickchart {\n",
              "      --bg-color: #E8F0FE;\n",
              "      --fill-color: #1967D2;\n",
              "      --hover-bg-color: #E2EBFA;\n",
              "      --hover-fill-color: #174EA6;\n",
              "      --disabled-fill-color: #AAA;\n",
              "      --disabled-bg-color: #DDD;\n",
              "  }\n",
              "\n",
              "  [theme=dark] .colab-df-quickchart {\n",
              "      --bg-color: #3B4455;\n",
              "      --fill-color: #D2E3FC;\n",
              "      --hover-bg-color: #434B5C;\n",
              "      --hover-fill-color: #FFFFFF;\n",
              "      --disabled-bg-color: #3B4455;\n",
              "      --disabled-fill-color: #666;\n",
              "  }\n",
              "\n",
              "  .colab-df-quickchart {\n",
              "    background-color: var(--bg-color);\n",
              "    border: none;\n",
              "    border-radius: 50%;\n",
              "    cursor: pointer;\n",
              "    display: none;\n",
              "    fill: var(--fill-color);\n",
              "    height: 32px;\n",
              "    padding: 0;\n",
              "    width: 32px;\n",
              "  }\n",
              "\n",
              "  .colab-df-quickchart:hover {\n",
              "    background-color: var(--hover-bg-color);\n",
              "    box-shadow: 0 1px 2px rgba(60, 64, 67, 0.3), 0 1px 3px 1px rgba(60, 64, 67, 0.15);\n",
              "    fill: var(--button-hover-fill-color);\n",
              "  }\n",
              "\n",
              "  .colab-df-quickchart-complete:disabled,\n",
              "  .colab-df-quickchart-complete:disabled:hover {\n",
              "    background-color: var(--disabled-bg-color);\n",
              "    fill: var(--disabled-fill-color);\n",
              "    box-shadow: none;\n",
              "  }\n",
              "\n",
              "  .colab-df-spinner {\n",
              "    border: 2px solid var(--fill-color);\n",
              "    border-color: transparent;\n",
              "    border-bottom-color: var(--fill-color);\n",
              "    animation:\n",
              "      spin 1s steps(1) infinite;\n",
              "  }\n",
              "\n",
              "  @keyframes spin {\n",
              "    0% {\n",
              "      border-color: transparent;\n",
              "      border-bottom-color: var(--fill-color);\n",
              "      border-left-color: var(--fill-color);\n",
              "    }\n",
              "    20% {\n",
              "      border-color: transparent;\n",
              "      border-left-color: var(--fill-color);\n",
              "      border-top-color: var(--fill-color);\n",
              "    }\n",
              "    30% {\n",
              "      border-color: transparent;\n",
              "      border-left-color: var(--fill-color);\n",
              "      border-top-color: var(--fill-color);\n",
              "      border-right-color: var(--fill-color);\n",
              "    }\n",
              "    40% {\n",
              "      border-color: transparent;\n",
              "      border-right-color: var(--fill-color);\n",
              "      border-top-color: var(--fill-color);\n",
              "    }\n",
              "    60% {\n",
              "      border-color: transparent;\n",
              "      border-right-color: var(--fill-color);\n",
              "    }\n",
              "    80% {\n",
              "      border-color: transparent;\n",
              "      border-right-color: var(--fill-color);\n",
              "      border-bottom-color: var(--fill-color);\n",
              "    }\n",
              "    90% {\n",
              "      border-color: transparent;\n",
              "      border-bottom-color: var(--fill-color);\n",
              "    }\n",
              "  }\n",
              "</style>\n",
              "\n",
              "  <script>\n",
              "    async function quickchart(key) {\n",
              "      const quickchartButtonEl =\n",
              "        document.querySelector('#' + key + ' button');\n",
              "      quickchartButtonEl.disabled = true;  // To prevent multiple clicks.\n",
              "      quickchartButtonEl.classList.add('colab-df-spinner');\n",
              "      try {\n",
              "        const charts = await google.colab.kernel.invokeFunction(\n",
              "            'suggestCharts', [key], {});\n",
              "      } catch (error) {\n",
              "        console.error('Error during call to suggestCharts:', error);\n",
              "      }\n",
              "      quickchartButtonEl.classList.remove('colab-df-spinner');\n",
              "      quickchartButtonEl.classList.add('colab-df-quickchart-complete');\n",
              "    }\n",
              "    (() => {\n",
              "      let quickchartButtonEl =\n",
              "        document.querySelector('#df-201be8b2-0b94-4637-8caa-28bf0128878b button');\n",
              "      quickchartButtonEl.style.display =\n",
              "        google.colab.kernel.accessAllowed ? 'block' : 'none';\n",
              "    })();\n",
              "  </script>\n",
              "</div>\n",
              "    </div>\n",
              "  </div>\n"
            ]
          },
          "metadata": {},
          "execution_count": 77
        }
      ]
    },
    {
      "cell_type": "code",
      "source": [
        "# 줄거리 전처리 - 한글 영어 빼고 모두 제외\n",
        "df['줄거리'] = df['줄거리'].apply(lambda x: re.sub(r'[^가-힣a-zA-Z\\s]', '', x))\n",
        "df['줄거리']"
      ],
      "metadata": {
        "colab": {
          "base_uri": "https://localhost:8080/"
        },
        "id": "wvWtXV9DfTLz",
        "outputId": "def3a6d1-de57-4b44-abf0-fee36a3b8918"
      },
      "execution_count": null,
      "outputs": [
        {
          "output_type": "execute_result",
          "data": {
            "text/plain": [
              "0      점에 살고 점에 죽는 점보늬의 호랑이띠 남자와 하룻밤 보내기 프로젝트 목숨이 걸린 ...\n",
              "1      쾌활하고 유쾌한 택시 운전사 민수 그리고 하영과 소희 두 남녀의 운명적인 만남\\n남...\n",
              "2      정음의 아버지 경민은 행정착오로 인해 월남전 참전 중 전사자 처리가 되고\\n잘못된 ...\n",
              "3      이중계약으로 엮인 사랑스러운 두 청춘의 동화 같은 사랑이 시작된다 상큼발랄 좌충우돌...\n",
              "4      가족에게는 그 어떤 힘든 시기도 헤쳐나갈 기적 같은 힘이 있습니다\\n엄마의 전화 한...\n",
              "                             ...                        \n",
              "122    음악을 하고 싶은 연수 하지만 홀로 연수를 키워온 연수의 아빠 이암은\\n무섭고도 절...\n",
              "123    락 밴드 연습생들 감옥 가다 가수의 꿈을 안고 혹독한 준비를 해왔지만 사기를 당한 ...\n",
              "124    일년에 치를 제사가 무려 번 오늘도 제사 때문에 등골이 휘는 필례는 남편 봉식을 짐...\n",
              "125    통통 튀는 매력 존  캣의 풋풋함과\\n책  캐서린의 무르익은 감정을 비교하며\\n감상...\n",
              "126    악마들의 가지 유혹의 기술\\nI 피곤하게 하고 짜증내게 하라\\nII 영혼을 위해 기...\n",
              "Name: 줄거리, Length: 127, dtype: object"
            ]
          },
          "metadata": {},
          "execution_count": 7
        }
      ]
    },
    {
      "cell_type": "code",
      "source": [
        "transform = transforms.Compose(\n",
        "    [transforms.ToTensor(),\n",
        "     transforms.Resize(224),\n",
        "     transforms.CenterCrop(224),\n",
        "     transforms.Normalize((0.5, 0.5, 0.5), (0.5, 0.5, 0.5))])\n",
        "\n",
        "# kor2vec_hyperparameter 조정\n",
        "embed_size_tune = 64\n",
        "batch_size_tune = 64\n",
        "seq_length = 20"
      ],
      "metadata": {
        "id": "We1diQP3cTxl"
      },
      "execution_count": null,
      "outputs": []
    },
    {
      "cell_type": "code",
      "source": [
        "class preprocess(Dataset):\n",
        "\n",
        "  def max_len(x):\n",
        "    return len(x)\n",
        "\n",
        "  def split_(x):\n",
        "    return x.split(' ')\n",
        "\n",
        "  def str1(x):\n",
        "    k=' '.join(x)\n",
        "    return k\n",
        "\n",
        "  # review_token 전처리\n",
        "\n",
        "  df['줄거리']=df['줄거리'].apply(split_)\n",
        "  df['줄거리']=df['줄거리'].apply(str1)\n",
        "\n",
        "\n",
        "  if kor_vec_name not in (model_dir):\n",
        "\n",
        "    # 줄거리 데이터를 사용해 임베딩을 학습 실시\n",
        "\n",
        "    rev = pd.Series(\"<sos> \" + df['줄거리']+\" <end>\")\n",
        "    rev.to_csv(model_dir+\"summary_text_corpus.csv\")\n",
        "\n",
        "\n",
        "    kor2vec = Kor2Vec(embed_size=embed_size_tune)\n",
        "    kor2vec.train(model_dir+\"summary_text_corpus.csv\", 'model.kor2vec', batch_size=batch_size_tune)\n",
        "    kor2vec.save(model_dir+ kor_vec_name)"
      ],
      "metadata": {
        "colab": {
          "base_uri": "https://localhost:8080/"
        },
        "id": "uej82w_CcWjP",
        "outputId": "dd1a2457-e58d-4816-bdae-538c25963761"
      },
      "execution_count": null,
      "outputs": [
        {
          "output_type": "stream",
          "name": "stdout",
          "text": [
            "Reading Corpus lines\n"
          ]
        },
        {
          "output_type": "stream",
          "name": "stderr",
          "text": [
            "Spliting Lines: 100%|██████████| 492/492 [00:00<00:00, 291345.13it/s]\n",
            "Corpus Sampling: 100%|██████████| 492/492 [00:00<00:00, 2483.37it/s]\n"
          ]
        },
        {
          "output_type": "stream",
          "name": "stdout",
          "text": [
            "Training kor2vec\n",
            "Loading Word_sample corpus\n",
            "Loading corpus finished\n",
            "CUDA Available/count: False 0\n",
            "training on  cpu\n"
          ]
        },
        {
          "output_type": "stream",
          "name": "stderr",
          "text": [
            "EP 0: 100%|██████████| 127/127 [00:14<00:00,  8.60it/s]\n"
          ]
        },
        {
          "output_type": "stream",
          "name": "stdout",
          "text": [
            "{'epoch': 0, 'train_ep_loss': 1.8984132770478257}\n"
          ]
        },
        {
          "output_type": "stream",
          "name": "stderr",
          "text": [
            "EP 1: 100%|██████████| 127/127 [00:12<00:00, 10.20it/s]\n"
          ]
        },
        {
          "output_type": "stream",
          "name": "stdout",
          "text": [
            "{'epoch': 1, 'train_ep_loss': 1.3070897305105615}\n"
          ]
        },
        {
          "output_type": "stream",
          "name": "stderr",
          "text": [
            "EP 2: 100%|██████████| 127/127 [00:07<00:00, 17.49it/s]\n"
          ]
        },
        {
          "output_type": "stream",
          "name": "stdout",
          "text": [
            "{'epoch': 2, 'train_ep_loss': 1.197259437850141}\n"
          ]
        },
        {
          "output_type": "stream",
          "name": "stderr",
          "text": [
            "EP 3: 100%|██████████| 127/127 [00:05<00:00, 24.35it/s]\n"
          ]
        },
        {
          "output_type": "stream",
          "name": "stdout",
          "text": [
            "{'epoch': 3, 'train_ep_loss': 1.0990069264502038}\n"
          ]
        },
        {
          "output_type": "stream",
          "name": "stderr",
          "text": [
            "EP 4: 100%|██████████| 127/127 [00:07<00:00, 16.63it/s]\n"
          ]
        },
        {
          "output_type": "stream",
          "name": "stdout",
          "text": [
            "{'epoch': 4, 'train_ep_loss': 1.005397899413672}\n"
          ]
        },
        {
          "output_type": "stream",
          "name": "stderr",
          "text": [
            "EP 5: 100%|██████████| 127/127 [00:05<00:00, 24.09it/s]\n"
          ]
        },
        {
          "output_type": "stream",
          "name": "stdout",
          "text": [
            "{'epoch': 5, 'train_ep_loss': 0.9176024160985872}\n"
          ]
        },
        {
          "output_type": "stream",
          "name": "stderr",
          "text": [
            "EP 6: 100%|██████████| 127/127 [00:05<00:00, 24.19it/s]\n"
          ]
        },
        {
          "output_type": "stream",
          "name": "stdout",
          "text": [
            "{'epoch': 6, 'train_ep_loss': 0.8348009055993688}\n"
          ]
        },
        {
          "output_type": "stream",
          "name": "stderr",
          "text": [
            "EP 7: 100%|██████████| 127/127 [00:07<00:00, 16.55it/s]\n"
          ]
        },
        {
          "output_type": "stream",
          "name": "stdout",
          "text": [
            "{'epoch': 7, 'train_ep_loss': 0.7575835775671982}\n"
          ]
        },
        {
          "output_type": "stream",
          "name": "stderr",
          "text": [
            "EP 8: 100%|██████████| 127/127 [00:05<00:00, 24.48it/s]\n"
          ]
        },
        {
          "output_type": "stream",
          "name": "stdout",
          "text": [
            "{'epoch': 8, 'train_ep_loss': 0.6855161405923799}\n"
          ]
        },
        {
          "output_type": "stream",
          "name": "stderr",
          "text": [
            "EP 9: 100%|██████████| 127/127 [00:05<00:00, 22.17it/s]\n"
          ]
        },
        {
          "output_type": "stream",
          "name": "stdout",
          "text": [
            "{'epoch': 9, 'train_ep_loss': 0.6183098237814866}\n"
          ]
        }
      ]
    },
    {
      "cell_type": "code",
      "source": [
        "class CaptionDataset(Dataset):\n",
        "\n",
        "    def __init__(self, img_dir, caption_df, transform=None):\n",
        "        self.root_dir = img_dir\n",
        "        self.transform = transform\n",
        "        self.df = caption_df\n",
        "\n",
        "        self.imgs = self.df['Image']\n",
        "        self.captions = self.df[\"줄거리\"]\n",
        "        self.kor2vec = Kor2Vec.load(model_dir+ kor_vec_name)\n",
        "\n",
        "\n",
        "    def __len__(self):\n",
        "        return len(self.df)\n",
        "\n",
        "    # 이미지, 텍스트를 불러 오는 메소드\n",
        "    # transform을 선언하면 임베딩 벡터와 1개 배치로 반환하며, 선언하지 않으면 이미지와 스트링 형태의 캡션을 반환\n",
        "    def __getitem__(self, idx):\n",
        "        caption = self.captions[idx]      # target caption\n",
        "\n",
        "        img_name = self.imgs[idx]\n",
        "        img_location = os.path.join(self.root_dir, img_name)\n",
        "        img = Image.open(img_location).convert(\"RGB\")\n",
        "\n",
        "        # transform이 있다면 실시 후 배치화(1 차원 추가)\n",
        "        if self.transform is not None:\n",
        "          img = self.transform(img)\n",
        "          # 정답 임베딩 데이터\n",
        "          caption = self.kor2vec.embedding(caption, seq_len=seq_length)\n",
        "\n",
        "        return img, caption"
      ],
      "metadata": {
        "id": "KbdyAJdQcZGN"
      },
      "execution_count": null,
      "outputs": []
    },
    {
      "cell_type": "code",
      "source": [
        "reveiw_train_data = CaptionDataset(img_dir, df, transform=transform)\n",
        "\n",
        "img, rev = reveiw_train_data[0]\n",
        "\n",
        "print(f\"img shape : {img.shape}\")\n",
        "print(f\"rev : {rev.shape}\")\n",
        "df_train_dataloader = DataLoader(reveiw_train_data, batch_size=batch_size_tune, shuffle=True)"
      ],
      "metadata": {
        "colab": {
          "base_uri": "https://localhost:8080/"
        },
        "id": "3uIMaDAZhPgN",
        "outputId": "3f32cdbb-29fe-44f2-f7df-98c8acd1f7a4"
      },
      "execution_count": null,
      "outputs": [
        {
          "output_type": "stream",
          "name": "stdout",
          "text": [
            "img shape : torch.Size([3, 224, 224])\n",
            "rev : torch.Size([20, 64])\n"
          ]
        }
      ]
    },
    {
      "cell_type": "code",
      "source": [
        "embed_size_tune = 64\n",
        "batch_size_tune = 64\n",
        "seq_length = 20\n",
        "drop_out_per = 0.5\n",
        "learning_rate=0.001\n",
        "epoch_time=5\n",
        "kor_vec_name= \"embedding_final_1\"\n",
        "kor2Vec_location=model_dir+kor_vec_name"
      ],
      "metadata": {
        "id": "ZX4xJ_Pej_IO"
      },
      "execution_count": null,
      "outputs": []
    },
    {
      "cell_type": "code",
      "source": [
        "class Decoder(nn.Module):\n",
        "\n",
        "    def __init__(self, output_dim, emb_dim, hid_dim, dropout):\n",
        "        super().__init__()\n",
        "        self.hid_dim = hid_dim\n",
        "        self.output_dim = output_dim\n",
        "        self.embedding = nn.Embedding(output_dim, emb_dim)\n",
        "        self.rnn = nn.GRU(emb_dim + hid_dim, hid_dim)\n",
        "        self.fc_out = nn.Linear(emb_dim + hid_dim * 2, output_dim)\n",
        "        self.dropout = nn.Dropout(dropout)\n",
        "\n",
        "    def forward(self, input, hidden, context):\n",
        "        embedded = self.dropout(input)\n",
        "        emb_con = torch.cat((embedded, context), dim = 2)\n",
        "        output, hidden = self.rnn(emb_con, hidden)\n",
        "        output = torch.cat((embedded.squeeze(0), hidden.squeeze(0), context.squeeze(0)),\n",
        "                           dim = 1)\n",
        "        prediction = self.fc_out(output)\n",
        "        return prediction.unsqueeze(0), hidden"
      ],
      "metadata": {
        "id": "v1J8ZhOtkWpk"
      },
      "execution_count": null,
      "outputs": []
    },
    {
      "cell_type": "code",
      "source": [
        "class Net(nn.Module):\n",
        "\n",
        "  def __init__(self, seq_len = seq_length, embedding_size = embed_size_tune, hidden_size = embed_size_tune):\n",
        "    super(Net, self).__init__()\n",
        "    self.seq_len = seq_len\n",
        "    self.embedding_size = embedding_size\n",
        "    self.hidden_size = hidden_size\n",
        "    self.resnet = models.resnet18(pretrained=True)\n",
        "    self.decoder = Decoder(embed_size_tune, self.embedding_size, self.hidden_size, drop_out_per)\n",
        "    self.kor2vec = Kor2Vec.load(kor2Vec_location)\n",
        "\n",
        "    # resNet의 모든 파라미터를 잠그고 마지막 레이어만 얼리지 않고 사용\n",
        "    for param in self.resnet.parameters():\n",
        "       param.requires_grad = False\n",
        "    self.resnet.fc = nn.Linear(512, embed_size_tune) # 마지막 레이어만 다시 사용\n",
        "\n",
        "    # kor2vec의 모든 파라미터를 얼리기\n",
        "    for param in self.kor2vec.parameters():\n",
        "       param.requires_grad = False\n",
        "\n",
        "  def forward(self, x):\n",
        "    batch_size = x.shape[0]\n",
        "    x = self.resnet(x).reshape(1,batch_size,self.hidden_size)\n",
        "    hidden = x    # lstm의 초기 셀 값은 resNet의 출력\n",
        "    outputs = torch.zeros(self.seq_len, batch_size, self.embedding_size)  # sequence를 저장하기 위한 빈 배열\n",
        "\n",
        "    # <sos> 를 시작 토큰으로 설정\n",
        "    output = self.kor2vec.embedding('<sos>').unsqueeze(0).repeat(1, batch_size, 1)\n",
        "\n",
        "    # seq 결과물을 lstm의 입력으로 사용하여 seq_len 만큼 반복하여 저장\n",
        "    for t in range(0, self.seq_len):\n",
        "        output, hidden = self.decoder(output, hidden, x )\n",
        "        outputs[t] = output\n",
        "\n",
        "    return outputs.reshape(batch_size, self.seq_len, self.embedding_size)\n",
        "\n",
        "\n",
        "  def give_embedding(self, x):\n",
        "    batch_size = x.shape[0]\n",
        "    x = self.resnet(x).reshape(1,batch_size,self.hidden_size)\n",
        "    hidden = x # lstm의 초기 셀 값은 resNet의 출력\n",
        "    outputs = torch.zeros(self.seq_len, batch_size, self.embedding_size) # sequence를 저장하기 위한 빈 배열\n",
        "\n",
        "    # <sos> 를 시작 토큰으로 설정\n",
        "    output = self.kor2vec.embedding('<sos>').unsqueeze(0).repeat(1, batch_size, 1)\n",
        "\n",
        "    # seq 결과물을 lstm의 입력으로 사용하여 seq_len = 15 만큼 반복하여 저장\n",
        "    output, hidden = self.decoder(output, hidden, x )\n",
        "    return hidden\n",
        "\n",
        "  def give_resnet_embedding(self, x):\n",
        "    batch_size = x.shape[0]\n",
        "    x = self.resnet(x).reshape(1,batch_size,self.hidden_size) # resnet 통과 output: (batch, hidden)\n",
        "\n",
        "    hidden =x # lstm의 초기 셀 값은 resNet의 출력\n",
        "    return hidden\n",
        "\n",
        "  # model.train()\n",
        "  def train(self, mode=True):\n",
        "    self.training = mode\n",
        "    for module in self.children():\n",
        "      if module != self.kor2vec:\n",
        "        module.train(mode)\n",
        "    return self\n",
        "\n",
        "  # model.eval()\n",
        "  def eval(self, mode=False):\n",
        "    # self.training = mode\n",
        "    for module in self.children():\n",
        "      if module != self.kor2vec:\n",
        "        module.train(mode)\n",
        "    return self"
      ],
      "metadata": {
        "id": "1VUHi9kAkZ9u"
      },
      "execution_count": null,
      "outputs": []
    },
    {
      "cell_type": "code",
      "source": [
        "show_and_tell_model = Net()\n",
        "criterion = nn.SmoothL1Loss()\n",
        "optimizer = optim.Adam(show_and_tell_model.parameters(), lr=learning_rate)"
      ],
      "metadata": {
        "id": "FIezMwm0k1Hh",
        "colab": {
          "base_uri": "https://localhost:8080/"
        },
        "outputId": "9ac9db33-55cd-443a-8cae-5d6235dce19f"
      },
      "execution_count": null,
      "outputs": [
        {
          "output_type": "stream",
          "name": "stderr",
          "text": [
            "Downloading: \"https://download.pytorch.org/models/resnet18-f37072fd.pth\" to /root/.cache/torch/hub/checkpoints/resnet18-f37072fd.pth\n",
            "100%|██████████| 44.7M/44.7M [00:00<00:00, 98.8MB/s]\n"
          ]
        }
      ]
    },
    {
      "cell_type": "code",
      "source": [
        "model_name=\"show_and_tell_final.pt\"\n",
        "py_dir = \"show_and_tellfile/\""
      ],
      "metadata": {
        "id": "4TzhbyiF-Ezp"
      },
      "execution_count": null,
      "outputs": []
    },
    {
      "cell_type": "code",
      "source": [
        "if model_name not in (model_dir+py_dir):\n",
        "\n",
        "  # 신경망 학습\n",
        "  for epoch in range(epoch_time):\n",
        "    running_loss = 0.0\n",
        "\n",
        "    for i, data in enumerate(df_train_dataloader):\n",
        "      img, label = data[0].squeeze(1), data[1]\n",
        "      optimizer.zero_grad()\n",
        "      output = show_and_tell_model(img)\n",
        "\n",
        "      loss = criterion(output.squeeze(1), label)\n",
        "      loss.backward()\n",
        "      optimizer.step()\n",
        "\n",
        "      running_loss += loss.item()\n",
        "\n",
        "      if i>= len(reveiw_train_data) - 1: break\n",
        "\n",
        "      if (i % 10) == 0:\n",
        "              print('[%d, %5d] loss: %.3f' %\n",
        "                    (epoch +1, i+1, running_loss / (i + 1)))\n",
        "              running_loss =0.0\n",
        "\n",
        "  torch.save(show_and_tell_model.state_dict(), model_dir+py_dir+model_name)"
      ],
      "metadata": {
        "colab": {
          "base_uri": "https://localhost:8080/"
        },
        "id": "jWqjUmj-lQTW",
        "outputId": "3c430835-6be5-4a3a-fd28-9af2e5b6757a"
      },
      "execution_count": null,
      "outputs": [
        {
          "output_type": "stream",
          "name": "stdout",
          "text": [
            "[1,     1] loss: 0.235\n",
            "[2,     1] loss: 0.210\n",
            "[3,     1] loss: 0.199\n",
            "[4,     1] loss: 0.202\n",
            "[5,     1] loss: 0.196\n"
          ]
        }
      ]
    },
    {
      "cell_type": "code",
      "source": [
        "embedding_dir=\"review_embeddings_test.pickle\"\n",
        "show_and_tell_model.load_state_dict(torch.load(model_dir+py_dir+model_name))"
      ],
      "metadata": {
        "id": "IcnpvkjF-L11"
      },
      "execution_count": null,
      "outputs": []
    },
    {
      "cell_type": "code",
      "source": [
        "# 가장 유사한, 가장 유사하지 않은 것 비교 코드\n",
        "\n",
        "if embedding_dir not in (model_dir+py_dir):\n",
        "  i_list = []\n",
        "  embed_list = []\n",
        "\n",
        "  # 모든 이미지에 대한 임베딩 계산\n",
        "  for i, data in enumerate(reveiw_train_data):\n",
        "      show_and_tell_model.eval()\n",
        "\n",
        "      img, label = data[0], data[1]\n",
        "      img = img.unsqueeze(0)\n",
        "      embed = show_and_tell_model.give_embedding(img).cpu().detach().numpy()\n",
        "\n",
        "      i_list.append(i)\n",
        "      embed_list.append(embed)\n",
        "\n",
        "      if i>= len(reveiw_train_data) - 1: break\n",
        "\n",
        "      if i%100 == 0:\n",
        "        print(f\"image done : {i}\")\n",
        "\n",
        "  with open(model_dir+py_dir+embedding_dir, 'wb') as f:\n",
        "      pickle.dump(embed_list, f, pickle.HIGHEST_PROTOCOL)\n",
        "\n",
        "else:\n",
        "  with open(model_dir+py_dir+embedding_dir, 'rb') as f:\n",
        "      embed_list = pickle.load(f)"
      ],
      "metadata": {
        "colab": {
          "base_uri": "https://localhost:8080/"
        },
        "id": "OVJTFyrem8_R",
        "outputId": "3a1c9e65-51fe-4171-a785-deff3d7ef723"
      },
      "execution_count": null,
      "outputs": [
        {
          "output_type": "stream",
          "name": "stdout",
          "text": [
            "image done : 0\n",
            "image done : 100\n"
          ]
        }
      ]
    },
    {
      "cell_type": "code",
      "source": [
        "def load_pickle(filename):\n",
        "    with open(filename, 'rb') as f:\n",
        "        res = pickle.load(f)\n",
        "    return res\n",
        "def save_pickle(data, filename):\n",
        "    with open(filename, 'wb') as f:\n",
        "        pickle.dump(data, f, pickle.HIGHEST_PROTOCOL)"
      ],
      "metadata": {
        "id": "kDJPJG7umjo3"
      },
      "execution_count": null,
      "outputs": []
    },
    {
      "cell_type": "code",
      "source": [
        "embed_list = load_pickle('/content/drive/MyDrive/캡스톤/데이터/show_and_tellfile/review_embeddings_test.pickle')\n",
        "embed_list"
      ],
      "metadata": {
        "id": "74BWKROV-Yci"
      },
      "execution_count": null,
      "outputs": []
    }
  ]
}
